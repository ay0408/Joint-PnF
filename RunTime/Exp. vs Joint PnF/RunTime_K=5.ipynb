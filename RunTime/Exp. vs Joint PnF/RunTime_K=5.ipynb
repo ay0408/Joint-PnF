{
 "cells": [
  {
   "cell_type": "code",
   "execution_count": 1,
   "metadata": {},
   "outputs": [],
   "source": [
    "import numpy as np\n",
    "import math\n",
    "from scipy import integrate\n",
    "import matplotlib.pyplot as plt\n",
    "import random\n",
    "import scipy.stats\n",
    "import time"
   ]
  },
  {
   "cell_type": "code",
   "execution_count": 2,
   "metadata": {},
   "outputs": [],
   "source": [
    "def chi2(n):\n",
    "    a = 2*n[0] + n[1]; b = 2*n[3] + n[4]\n",
    "    R = 2*(n[0]+n[1]+n[2]); S = 2*(n[3]+n[4]+n[5])\n",
    "    N = R+S\n",
    "    \n",
    "    return (2*N*((a*S-b*R)**2))/(R*S*(a+b)*(2*N-a-b))"
   ]
  },
  {
   "cell_type": "code",
   "execution_count": 3,
   "metadata": {},
   "outputs": [],
   "source": [
    "# pseudo_SHD\n",
    "\n",
    "def pseudo_SHD(n):\n",
    "    a = 2*n[0] + n[1]; b = 2*n[3] + n[4]\n",
    "    c = n[1] + 2*n[2]; d = n[4] + 2*n[5]\n",
    "    \n",
    "    return (math.fabs(a-b)+math.fabs(c-d))/4"
   ]
  },
  {
   "cell_type": "code",
   "execution_count": 4,
   "metadata": {},
   "outputs": [],
   "source": [
    "# exponential mechanism\n",
    "\n",
    "def random_num(pd):\n",
    "    dist = np.cumsum(pd).tolist()\n",
    "    dist[-1] = 1.0\n",
    "    num = np.random.rand()\n",
    "    dist.append(num)\n",
    "    return sorted(dist).index(num)\n",
    "\n",
    "def exp_mec(score, m, K, epsilon):\n",
    "    S = np.zeros(K)\n",
    "    k = 0\n",
    "    \n",
    "    w = np.zeros(m)\n",
    "    p = np.zeros(m)\n",
    "    \n",
    "    s = np.zeros(m)\n",
    "    for i in range(m):\n",
    "        s[i] = score[i]\n",
    "    \n",
    "    while k < K:\n",
    "        sumw = 0\n",
    "        for i in range(m):\n",
    "            w[i] = math.exp(epsilon * s[i] / (2*K))\n",
    "            sumw += w[i]\n",
    "        for i in range(m):\n",
    "            p[i] = w[i]/sumw\n",
    "            \n",
    "        x = random_num(p)\n",
    "        s[x] = -1000000.0\n",
    "        S[k] = x\n",
    "        k += 1\n",
    "    \n",
    "    return S"
   ]
  },
  {
   "cell_type": "code",
   "execution_count": 5,
   "metadata": {},
   "outputs": [],
   "source": [
    "# (Efficient) Joint Permute-and-Flip\n",
    "\n",
    "def JointPnF(score, m, K, epsilon):\n",
    "    S = np.zeros(K)\n",
    "    SS = np.zeros(K)\n",
    "    w = np.zeros(m)\n",
    "    \n",
    "    si = np.argsort(-score)\n",
    "    c = np.zeros(m)\n",
    "    for i in range(m):\n",
    "        c[si[i]] = i\n",
    "    ss = sorted(score, reverse=True)\n",
    "    for i in range(K-1,m):\n",
    "        if i == K-1:\n",
    "            C = 1\n",
    "        else:\n",
    "            C = (C/(i-K+1)) * i\n",
    "        r = np.random.rand()\n",
    "        if r**(1/C)==1:\n",
    "            D = C\n",
    "            p = 16\n",
    "            while(1):\n",
    "                D /= 10\n",
    "                p += 1\n",
    "                if r**(1/D) != 1:\n",
    "                    l = (1 - r**(1/D))*(10**16)\n",
    "                    break\n",
    "            x = -(2/epsilon)*(math.log(l) + (-1*p)*math.log(10))\n",
    "        else:\n",
    "            x = -(2/epsilon)*math.log(1-r**(1/C))\n",
    "        w[i] = ss[i] + x\n",
    "    SS[K-1] = np.argmax(w[K-1:m]) + K-1\n",
    "    SS[0:K-1] = np.random.choice(int(SS[K-1]), size=K-1, replace=False)\n",
    "    \n",
    "    for i in range(K):\n",
    "        S[i] = c[int(SS[i])]\n",
    "    \n",
    "    return S"
   ]
  },
  {
   "cell_type": "code",
   "execution_count": 6,
   "metadata": {},
   "outputs": [],
   "source": [
    "def generate_data(N, M):\n",
    "    S = np.zeros(M)\n",
    "    b = np.zeros(M)\n",
    "    c = np.zeros(M)\n",
    "    n = np.zeros((M,6))\n",
    "    \n",
    "    for i in range(M-10):\n",
    "        n[i][0] = np.random.binomial(int(N/2),1/3)\n",
    "        n[i][1] = np.random.binomial((int(N/2)-n[i][0]), 1/2)\n",
    "        n[i][2] = int(N/2)-n[i][0]-n[i][1]\n",
    "        n[i][3] = np.random.binomial(int(N/2),1/3)\n",
    "        n[i][4] = np.random.binomial((int(N/2)-n[i][3]), 1/2)\n",
    "        n[i][5] = int(N/2)-n[i][3]-n[i][4]\n",
    "    \n",
    "    for i in range(M-10,M):\n",
    "        n[i][0] = np.random.binomial(int(N/2),1/7)\n",
    "        n[i][1] = np.random.binomial((int(N/2)-n[i][0]), 1/4)\n",
    "        n[i][2] = int(N/2)-n[i][0]-n[i][1]\n",
    "        n[i][3] = np.random.binomial(int(N/2),1/2)\n",
    "        n[i][4] = np.random.binomial((int(N/2)-n[i][3]), 1/1.5)\n",
    "        n[i][5] = int(N/2)-n[i][3]-n[i][4]\n",
    "    \n",
    "    return n"
   ]
  },
  {
   "cell_type": "code",
   "execution_count": 7,
   "metadata": {},
   "outputs": [],
   "source": [
    "def RunTime(M):\n",
    "    epsilon = 5; K = 5\n",
    "    n = generate_data(150,M); score = np.zeros(M)\n",
    "    for i in range(M):\n",
    "        r0 = int(n[i][0]); r1 = int(n[i][1]); r2 = int(n[i][2])\n",
    "        s0 = int(n[i][3]); s1 = int(n[i][4]); s2 = int(n[i][5])\n",
    "        k = [r0,r1,r2,s0,s1,s2]\n",
    "        score[i] = pseudo_SHD(k)\n",
    "    t = np.zeros(2)\n",
    "    for i in range(100):\n",
    "        s = time.time()\n",
    "        exp_mec(score, M, K, epsilon)\n",
    "        e = time.time()\n",
    "        t[0] += (e-s)\n",
    "        s = time.time()\n",
    "        JointPnF(score, M, K, epsilon)\n",
    "        e = time.time()\n",
    "        t[1] += (e-s)\n",
    "    return t/100"
   ]
  },
  {
   "cell_type": "code",
   "execution_count": 8,
   "metadata": {},
   "outputs": [
    {
     "name": "stdout",
     "output_type": "stream",
     "text": [
      "Exp.     :  0.027379369735717772 [sec]\n",
      "Joint PnF:  0.007012946605682373 [sec]\n"
     ]
    }
   ],
   "source": [
    "# M = 5,000\n",
    "\n",
    "M = 5000\n",
    "RT = RunTime(M)\n",
    "\n",
    "print(\"Exp.     : \", RT[0] ,\"[sec]\")\n",
    "print(\"Joint PnF: \", RT[1] ,\"[sec]\")"
   ]
  },
  {
   "cell_type": "code",
   "execution_count": 9,
   "metadata": {},
   "outputs": [
    {
     "name": "stdout",
     "output_type": "stream",
     "text": [
      "Exp.     :  0.13664587259292602 [sec]\n",
      "Joint PnF:  0.03705251693725586 [sec]\n"
     ]
    }
   ],
   "source": [
    "# M = 25,000\n",
    "\n",
    "M = 25000\n",
    "RT = RunTime(M)\n",
    "\n",
    "print(\"Exp.     : \", RT[0] ,\"[sec]\")\n",
    "print(\"Joint PnF: \", RT[1] ,\"[sec]\")"
   ]
  },
  {
   "cell_type": "code",
   "execution_count": 10,
   "metadata": {},
   "outputs": [
    {
     "name": "stdout",
     "output_type": "stream",
     "text": [
      "Exp.     :  0.550368435382843 [sec]\n",
      "Joint PnF:  0.1864541506767273 [sec]\n"
     ]
    }
   ],
   "source": [
    "# M = 100,000\n",
    "\n",
    "M = 100000\n",
    "RT = RunTime(M)\n",
    "\n",
    "print(\"Exp.     : \", RT[0] ,\"[sec]\")\n",
    "print(\"Joint PnF: \", RT[1] ,\"[sec]\")"
   ]
  },
  {
   "cell_type": "code",
   "execution_count": 11,
   "metadata": {},
   "outputs": [
    {
     "name": "stdout",
     "output_type": "stream",
     "text": [
      "Exp.     :  2.805075373649597 [sec]\n",
      "Joint PnF:  1.1571199631690978 [sec]\n"
     ]
    }
   ],
   "source": [
    "# M = 500,000\n",
    "\n",
    "M = 500000\n",
    "RT = RunTime(M)\n",
    "\n",
    "print(\"Exp.     : \", RT[0] ,\"[sec]\")\n",
    "print(\"Joint PnF: \", RT[1] ,\"[sec]\")"
   ]
  },
  {
   "cell_type": "code",
   "execution_count": 12,
   "metadata": {},
   "outputs": [
    {
     "name": "stdout",
     "output_type": "stream",
     "text": [
      "Exp.     :  5.650887908935547 [sec]\n",
      "Joint PnF:  2.4999803566932677 [sec]\n"
     ]
    }
   ],
   "source": [
    "# M = 1,000,000\n",
    "\n",
    "M = 1000000\n",
    "RT = RunTime(M)\n",
    "\n",
    "print(\"Exp.     : \", RT[0] ,\"[sec]\")\n",
    "print(\"Joint PnF: \", RT[1] ,\"[sec]\")"
   ]
  },
  {
   "cell_type": "code",
   "execution_count": null,
   "metadata": {},
   "outputs": [],
   "source": []
  }
 ],
 "metadata": {
  "kernelspec": {
   "display_name": "Python 3",
   "language": "python",
   "name": "python3"
  },
  "language_info": {
   "codemirror_mode": {
    "name": "ipython",
    "version": 3
   },
   "file_extension": ".py",
   "mimetype": "text/x-python",
   "name": "python",
   "nbconvert_exporter": "python",
   "pygments_lexer": "ipython3",
   "version": "3.8.3"
  }
 },
 "nbformat": 4,
 "nbformat_minor": 4
}
