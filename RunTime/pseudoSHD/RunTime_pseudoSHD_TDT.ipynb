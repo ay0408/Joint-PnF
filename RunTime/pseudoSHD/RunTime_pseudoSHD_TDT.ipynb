{
 "cells": [
  {
   "cell_type": "code",
   "execution_count": 1,
   "metadata": {},
   "outputs": [],
   "source": [
    "import numpy as np\n",
    "import math\n",
    "from scipy import integrate\n",
    "import matplotlib.pyplot as plt\n",
    "import random\n",
    "import scipy.stats\n",
    "import time"
   ]
  },
  {
   "cell_type": "code",
   "execution_count": 2,
   "metadata": {},
   "outputs": [],
   "source": [
    "def TDT(n):\n",
    "    b = n[0] + n[2] + 2*n[3]\n",
    "    c = n[1] + n[2] + 2*n[4]\n",
    "    \n",
    "    if b == 0 and c == 0:\n",
    "        return 0\n",
    "    else:\n",
    "        return (b-c)**2/(b+c)"
   ]
  },
  {
   "cell_type": "code",
   "execution_count": 3,
   "metadata": {},
   "outputs": [],
   "source": [
    "# SHD [Yamamoto and Shibuya, PSB 2022]\n",
    "\n",
    "def SHD(cc, n):\n",
    "    T = TDT(n)\n",
    "    \n",
    "    d = np.zeros(2)\n",
    "    N = np.zeros(6)\n",
    "    \n",
    "    for k in range(6):\n",
    "        N[k] = n[k]\n",
    "    \n",
    "    if T < cc:\n",
    "        while T < cc:\n",
    "            if N[4] > 0:\n",
    "                N[4] -= 1\n",
    "            elif N[1] > 0:\n",
    "                N[1] -= 1\n",
    "            elif N[2] > 0:\n",
    "                N[2] -= 1\n",
    "            elif N[5] > 0:\n",
    "                N[5] -= 1\n",
    "            else:\n",
    "                N[0] -= 1\n",
    "            N[3] += 1\n",
    "            \n",
    "            T = TDT(N)\n",
    "            d[0] -= 1\n",
    "        \n",
    "        T = TDT(n)\n",
    "        for k in range(6):\n",
    "            N[k] = n[k]\n",
    "        \n",
    "        while T < cc:\n",
    "            if N[3] > 0:\n",
    "                N[3] -= 1\n",
    "            elif N[0] > 0:\n",
    "                N[0] -= 1\n",
    "            elif N[2] > 0:\n",
    "                N[2] -= 1\n",
    "            elif N[5] > 0:\n",
    "                N[5] -= 1\n",
    "            else:\n",
    "                N[1] -= 1\n",
    "            N[4] += 1\n",
    "            \n",
    "            T = TDT(N)\n",
    "            d[1] -= 1\n",
    "        \n",
    "        if d[0] > d[1]:\n",
    "            return d[0]\n",
    "        else:\n",
    "            return d[1]\n",
    "    \n",
    "    else:\n",
    "        step = 0\n",
    "        \n",
    "        if n[0] + 2*n[3] > n[1] + 2*n[4]:\n",
    "            while T >= cc:\n",
    "                if n[3] > 0:\n",
    "                    n[3] -= 1\n",
    "                elif n[0] > 0:\n",
    "                    n[0] -= 1\n",
    "                elif n[5] > 0:\n",
    "                    n[5] -= 1\n",
    "                elif n[2] > 0:\n",
    "                    n[2] -= 1\n",
    "                else:\n",
    "                    n[1] -= 1\n",
    "                n[4] += 1\n",
    "            \n",
    "                T = TDT(n)\n",
    "                step += 1\n",
    "        else:\n",
    "            while T >= cc:\n",
    "                if n[4] > 0:\n",
    "                    n[4] -= 1\n",
    "                elif n[1] > 0:\n",
    "                    n[1] -= 1\n",
    "                elif n[5] > 0:\n",
    "                    n[5] -= 1\n",
    "                elif n[2] > 0:\n",
    "                    n[2] -= 1\n",
    "                else:\n",
    "                    n[0] -= 1\n",
    "                n[3] += 1\n",
    "            \n",
    "                T = TDT(n)\n",
    "                step += 1\n",
    "        \n",
    "        return step-1"
   ]
  },
  {
   "cell_type": "code",
   "execution_count": 4,
   "metadata": {},
   "outputs": [],
   "source": [
    "# pseudo_SHD\n",
    "\n",
    "def pseudo_SHD(n):\n",
    "    b = n[0] + n[2] + 2*n[3]\n",
    "    c = n[1] + n[2] + 2*n[4]\n",
    "    \n",
    "    return math.fabs(b-c)/4"
   ]
  },
  {
   "cell_type": "code",
   "execution_count": 5,
   "metadata": {},
   "outputs": [],
   "source": [
    "def generate_data(N, M):\n",
    "    S = np.zeros(M)\n",
    "    b = np.zeros(M)\n",
    "    c = np.zeros(M)\n",
    "    n = np.zeros((M,6))\n",
    "    \n",
    "    for i in range(M):\n",
    "        n[i][0] = np.random.binomial(int(N/2),1/3)\n",
    "        n[i][1] = np.random.binomial((int(N/2)-n[i][0]), 1/2)\n",
    "        n[i][2] = int(N/2)-n[i][0]-n[i][1]\n",
    "        n[i][3] = np.random.binomial(int(N/2),1/3)\n",
    "        n[i][4] = np.random.binomial((int(N/2)-n[i][3]), 1/2)\n",
    "        n[i][5] = int(N/2)-n[i][3]-n[i][4]\n",
    "    \n",
    "    return n"
   ]
  },
  {
   "cell_type": "code",
   "execution_count": 6,
   "metadata": {},
   "outputs": [],
   "source": [
    "def RunTime(M):\n",
    "    epsilon = 5; K = 1\n",
    "    n = generate_data(150,M); score = np.zeros(M); t = np.zeros(2)\n",
    "    for i in range(M):\n",
    "        r0 = int(n[i][0]); r1 = int(n[i][1]); r2 = int(n[i][2])\n",
    "        s0 = int(n[i][3]); s1 = int(n[i][4]); s2 = int(n[i][5])\n",
    "        cc = 19.5\n",
    "        k = [r0,r1,r2,s0,s1,s2]\n",
    "        s = time.time()\n",
    "        SHD(cc,k)\n",
    "        e = time.time()\n",
    "        t[0] += (e-s)\n",
    "        s = time.time()\n",
    "        pseudo_SHD(k)\n",
    "        e = time.time()\n",
    "        t[1] += (e-s)\n",
    "        \n",
    "    return t/M"
   ]
  },
  {
   "cell_type": "code",
   "execution_count": 7,
   "metadata": {},
   "outputs": [
    {
     "name": "stdout",
     "output_type": "stream",
     "text": [
      "exact SHD :  0.00020391951322555542 [sec]\n",
      "pseudo-SHD:  9.124231338500976e-07 [sec]\n"
     ]
    }
   ],
   "source": [
    "M = 100000\n",
    "RT = RunTime(M)\n",
    "\n",
    "print(\"exact SHD : \", RT[0] ,\"[sec]\")\n",
    "print(\"pseudo-SHD: \", RT[1] ,\"[sec]\")"
   ]
  },
  {
   "cell_type": "code",
   "execution_count": null,
   "metadata": {},
   "outputs": [],
   "source": []
  }
 ],
 "metadata": {
  "kernelspec": {
   "display_name": "Python 3",
   "language": "python",
   "name": "python3"
  },
  "language_info": {
   "codemirror_mode": {
    "name": "ipython",
    "version": 3
   },
   "file_extension": ".py",
   "mimetype": "text/x-python",
   "name": "python",
   "nbconvert_exporter": "python",
   "pygments_lexer": "ipython3",
   "version": "3.8.3"
  }
 },
 "nbformat": 4,
 "nbformat_minor": 4
}
