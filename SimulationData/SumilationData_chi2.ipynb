{
 "cells": [
  {
   "cell_type": "code",
   "execution_count": 1,
   "metadata": {},
   "outputs": [],
   "source": [
    "import numpy as np\n",
    "import math\n",
    "from scipy import integrate\n",
    "import matplotlib.pyplot as plt\n",
    "import random\n",
    "import scipy.stats"
   ]
  },
  {
   "cell_type": "code",
   "execution_count": 2,
   "metadata": {},
   "outputs": [],
   "source": [
    "def chi2(n):\n",
    "    a = 2*n[0] + n[1]; b = 2*n[3] + n[4]\n",
    "    R = 2*(n[0]+n[1]+n[2]); S = 2*(n[3]+n[4]+n[5])\n",
    "    N = R+S\n",
    "    \n",
    "    return (N*((a*S-b*R)**2))/(R*S*(a+b)*(N-a-b))"
   ]
  },
  {
   "cell_type": "code",
   "execution_count": 3,
   "metadata": {},
   "outputs": [
    {
     "data": {
      "image/png": "[encoded data removed]",
      "text/plain": [
       "<Figure size 432x288 with 1 Axes>"
      ]
     },
     "metadata": {
      "needs_background": "light"
     },
     "output_type": "display_data"
    }
   ],
   "source": [
    "N = 150; M = 5000\n",
    "S = np.zeros(M)\n",
    "b = np.zeros(M)\n",
    "c = np.zeros(M)\n",
    "n = np.zeros((M,6))\n",
    "    \n",
    "for i in range(M-10):\n",
    "    n[i][0] = np.random.binomial(int(N/2),1/3)\n",
    "    n[i][1] = np.random.binomial((int(N/2)-n[i][0]), 1/2)\n",
    "    n[i][2] = int(N/2)-n[i][0]-n[i][1]\n",
    "    n[i][3] = np.random.binomial(int(N/2),1/3)\n",
    "    n[i][4] = np.random.binomial((int(N/2)-n[i][3]), 1/2)\n",
    "    n[i][5] = int(N/2)-n[i][3]-n[i][4]\n",
    "    \n",
    "for i in range(M-10,M):\n",
    "    n[i][0] = np.random.binomial(int(N/2),1/7)\n",
    "    n[i][1] = np.random.binomial((int(N/2)-n[i][0]), 1/4)\n",
    "    n[i][2] = int(N/2)-n[i][0]-n[i][1]\n",
    "    n[i][3] = np.random.binomial(int(N/2),1/2)\n",
    "    n[i][4] = np.random.binomial((int(N/2)-n[i][3]), 1/1.5)\n",
    "    n[i][5] = int(N/2)-n[i][3]-n[i][4]\n",
    "\n",
    "stats = np.zeros(M)\n",
    "order = np.zeros(M)\n",
    "\n",
    "for i in range(M):\n",
    "    order[i] = i\n",
    "    stats[i] = chi2(n[i])\n",
    "\n",
    "x = np.argsort(stats)\n",
    "\n",
    "nn = np.zeros((M,6))\n",
    "for i in range(M):\n",
    "    nn[i] = n[x[M-1-i]]\n",
    "\n",
    "sorted_stats = sorted(stats, reverse=True)\n",
    "#print(sorted_stats)\n",
    "\n",
    "fig = plt.figure()\n",
    "plt.ylim(-1, max(stats)+2)\n",
    "plt.xlim(-2, 102)\n",
    "plt.plot(order, sorted_stats, marker=\"o\", markersize=2, color = \"red\", linestyle = \"None\")\n",
    "plt.axhline(19.5, color = \"black\", linestyle = \"-.\")\n",
    "plt.xlabel(\"rank\", fontsize = 18)\n",
    "plt.ylabel(\"chi^2 statistic\", fontsize = 18)\n",
    "fig.savefig(\"chi2_stats.png\")\n",
    "fig.savefig(\"figs/chi2_stats.eps\")"
   ]
  },
  {
   "cell_type": "code",
   "execution_count": null,
   "metadata": {},
   "outputs": [],
   "source": []
  }
 ],
 "metadata": {
  "kernelspec": {
   "display_name": "Python 3",
   "language": "python",
   "name": "python3"
  },
  "language_info": {
   "codemirror_mode": {
    "name": "ipython",
    "version": 3
   },
   "file_extension": ".py",
   "mimetype": "text/x-python",
   "name": "python",
   "nbconvert_exporter": "python",
   "pygments_lexer": "ipython3",
   "version": "3.8.3"
  }
 },
 "nbformat": 4,
 "nbformat_minor": 4
}
